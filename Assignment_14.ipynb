{
 "cells": [
  {
   "cell_type": "markdown",
   "id": "482ac241",
   "metadata": {},
   "source": [
    "1). What does RGBA stand for?"
   ]
  },
  {
   "cell_type": "markdown",
   "id": "1a665481",
   "metadata": {},
   "source": [
    "RGBA stands for Red, Green, Blue, and Alpha.\n",
    "It's used in computer graphics to represent a color in a digital image."
   ]
  },
  {
   "cell_type": "markdown",
   "id": "ff7d9f16",
   "metadata": {},
   "source": [
    "2). From the Pillow module, how do you get the RGBA value of any images?\n"
   ]
  },
  {
   "cell_type": "markdown",
   "id": "2cec604c",
   "metadata": {},
   "source": [
    "We can use python imaging library (pillow) to get RGBA value of any images"
   ]
  },
  {
   "cell_type": "markdown",
   "id": "a22cc254",
   "metadata": {},
   "source": [
    "3). What is a box tuple, and how does it work?"
   ]
  },
  {
   "cell_type": "markdown",
   "id": "bfd78132",
   "metadata": {},
   "source": [
    "Box tuple is tuple of four integers that represents rectangular region in an image. The four integers are (left, upper, right, lower), which represent the coordinates of the left, upper, right, and lower edges of the rectangular region. "
   ]
  },
  {
   "cell_type": "markdown",
   "id": "1717461e",
   "metadata": {},
   "source": [
    "4). Use your image and load in notebook then, How can you find out the width and height of an Image object?"
   ]
  },
  {
   "cell_type": "markdown",
   "id": "ebe2a883",
   "metadata": {},
   "source": [
    "After loading image in notebook saving it. Then we can get size of image by loading it in python and using size attribute to find width and length."
   ]
  },
  {
   "cell_type": "markdown",
   "id": "d5b93c60",
   "metadata": {},
   "source": [
    "5). What method would you call to get Image object for a 100×100 image, excluding the lower-left quarter of it?"
   ]
  },
  {
   "cell_type": "markdown",
   "id": "c934a6a6",
   "metadata": {},
   "source": [
    "We can get image fora 100x100 image we can use crop and provide/defining the dimension in the box tuple.Ex for 100 x 100 we will define box tuple as ( 0 0 100 100 )"
   ]
  },
  {
   "cell_type": "markdown",
   "id": "cd2486fd",
   "metadata": {},
   "source": [
    "6). After making changes to an Image object, how could you save it as an image file?"
   ]
  },
  {
   "cell_type": "markdown",
   "id": "af15b2e0",
   "metadata": {},
   "source": [
    "To save an Image object as an image file we can use the save() method to save the Image object."
   ]
  },
  {
   "cell_type": "markdown",
   "id": "661dcf16",
   "metadata": {},
   "source": [
    "7). What module contains Pillow’s shape-drawing code?"
   ]
  },
  {
   "cell_type": "markdown",
   "id": "7a6b76ca",
   "metadata": {},
   "source": [
    "It's part of 'ImageDraw' module."
   ]
  },
  {
   "cell_type": "markdown",
   "id": "69237ee3",
   "metadata": {},
   "source": [
    "8). Image objects do not have drawing methods. What kind of object does? How do you get this kind of object?"
   ]
  },
  {
   "cell_type": "markdown",
   "id": "79170b07",
   "metadata": {},
   "source": [
    "To get image object we need to first create 'ImageDraw' object that will then be bounded "
   ]
  }
 ],
 "metadata": {
  "kernelspec": {
   "display_name": "Python 3 (ipykernel)",
   "language": "python",
   "name": "python3"
  },
  "language_info": {
   "codemirror_mode": {
    "name": "ipython",
    "version": 3
   },
   "file_extension": ".py",
   "mimetype": "text/x-python",
   "name": "python",
   "nbconvert_exporter": "python",
   "pygments_lexer": "ipython3",
   "version": "3.9.13"
  }
 },
 "nbformat": 4,
 "nbformat_minor": 5
}
