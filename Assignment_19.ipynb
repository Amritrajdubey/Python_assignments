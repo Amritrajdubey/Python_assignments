{
 "cells": [
  {
   "cell_type": "markdown",
   "id": "516b4f67",
   "metadata": {},
   "source": [
    "1). Make a class called Thing with no contents and print it. Then, create an object called example from this class and also print it. Are the printed values the same or different?"
   ]
  },
  {
   "cell_type": "code",
   "execution_count": 3,
   "id": "3f88a256",
   "metadata": {},
   "outputs": [
    {
     "name": "stdout",
     "output_type": "stream",
     "text": [
      "<__main__.Thing object at 0x000001F0B142B8E0>\n",
      "<__main__.Thing object at 0x000001F0B142BCD0>\n"
     ]
    }
   ],
   "source": [
    "# Creating blank class Thing. \n",
    "class Thing:\n",
    "    pass\n",
    "\n",
    "print(Thing()) # Printing the class Thing\n",
    "# Creating object of the class Thing\n",
    "example = Thing()\n",
    "\n",
    "print(example) # Printing object of class (example)"
   ]
  },
  {
   "cell_type": "markdown",
   "id": "7cedbeb0",
   "metadata": {},
   "source": [
    "2). Create a new class called Thing2 and add the value 'abc' to the letters class attribute. Lettersshould be printed."
   ]
  },
  {
   "cell_type": "code",
   "execution_count": 4,
   "id": "2b8b33e6",
   "metadata": {},
   "outputs": [
    {
     "name": "stdout",
     "output_type": "stream",
     "text": [
      "abc\n"
     ]
    }
   ],
   "source": [
    "# Creating new class Thing2\n",
    "class Thing2:\n",
    "    attribute = 'abc' # adding value to the class.\n",
    "    \n",
    "print(Thing2.attribute) # Printing value of the class (attribute)\n",
    "    "
   ]
  },
  {
   "cell_type": "markdown",
   "id": "2a9c8752",
   "metadata": {},
   "source": [
    "3). Make yet another class called, of course, Thing3. This time, assign the value 'xyz' to an instance (object) attribute called letters. Print letters. Do you need to make an object from the class to do this?"
   ]
  },
  {
   "cell_type": "code",
   "execution_count": null,
   "id": "926e11eb",
   "metadata": {},
   "outputs": [],
   "source": [
    "class Thing3(self): # Defining class Thing3\n",
    "    def __init__(self):\n",
    "        self.letters = 'xyz' # Making instance of the class and assigning value 'xyz' to it.\n",
    "\n",
    "object1 = Thing3() # To call the instance we need to create a object.\n",
    "print(object1.Thing3) # Printing the instance by calling it by instance.\n",
    "    "
   ]
  },
  {
   "cell_type": "markdown",
   "id": "4f5e6577",
   "metadata": {},
   "source": [
    "4). Create an Element class with the instance attributes name, symbol, and number. Create a class object with the values 'Hydrogen', 'H' and 1."
   ]
  },
  {
   "cell_type": "code",
   "execution_count": 5,
   "id": "e7951b03",
   "metadata": {},
   "outputs": [
    {
     "name": "stdout",
     "output_type": "stream",
     "text": [
      "Hydrogen\n"
     ]
    }
   ],
   "source": [
    "class Element: # Creating class Element\n",
    "    def __init__(self,name,symbol,number): # Defining instances of the class\n",
    "        self.name = name\n",
    "        self.symbol = symbol\n",
    "        self.number = number\n",
    "Element1 = Element('Hydrogen','H',1)\n",
    "\n",
    "print(Element1.name)"
   ]
  },
  {
   "cell_type": "markdown",
   "id": "e000ab3b",
   "metadata": {},
   "source": [
    "5). Make a dictionary with these keys and values: 'name': 'Hydrogen', 'symbol': 'H', 'number': 1. Then, create an object called hydrogen from class Element using this dictionary."
   ]
  },
  {
   "cell_type": "code",
   "execution_count": 8,
   "id": "40f1b2b3",
   "metadata": {},
   "outputs": [
    {
     "name": "stdout",
     "output_type": "stream",
     "text": [
      "Hydrogen\n"
     ]
    }
   ],
   "source": [
    "dict_1 = {'name':'Hydrogen','symbol':'H','number':1} \n",
    "\n",
    "hydrogen = Element(**dict_1)\n",
    "\n",
    "print(hydrogen.name)\n",
    "    "
   ]
  },
  {
   "cell_type": "markdown",
   "id": "5a0df83c",
   "metadata": {},
   "source": [
    "6). For the Element class, define a method called dump() that prints the values of the object’s attributes (name, symbol, and number). Create the hydrogen object from this new definition and use dump() to print its attributes."
   ]
  },
  {
   "cell_type": "code",
   "execution_count": 12,
   "id": "b0898bbf",
   "metadata": {},
   "outputs": [
    {
     "name": "stdout",
     "output_type": "stream",
     "text": [
      "Name :Hydrogen,Symbol :H,Number :1\n"
     ]
    }
   ],
   "source": [
    "class Element: # Creating class Element\n",
    "    def __init__(self,name,symbol,number): # Defining instances of the class\n",
    "        self.name = name\n",
    "        self.symbol = symbol\n",
    "        self.number = number\n",
    "        \n",
    "    def dump(self): # Defining method dump that will print values of the object.\n",
    "        print(f'Name :{self.name},Symbol :{self.symbol},Number :{self.number}')\n",
    "        \n",
    "hydrogen = Element('Hydrogen','H',1)\n",
    "\n",
    "hydrogen.dump()"
   ]
  },
  {
   "cell_type": "markdown",
   "id": "bbb264d5",
   "metadata": {},
   "source": [
    "7). Call print(hydrogen). In the definition of Element, change the name of method dump to __str__, create a new hydrogen object, and call print(hydrogen) again."
   ]
  },
  {
   "cell_type": "code",
   "execution_count": 17,
   "id": "fad9604e",
   "metadata": {},
   "outputs": [
    {
     "name": "stdout",
     "output_type": "stream",
     "text": [
      "Name :Hydrogen,Symbol :H,Number :1\n"
     ]
    }
   ],
   "source": [
    "class Element: # Creating class Element\n",
    "    def __init__(self,name,symbol,number): # Defining instances of the class\n",
    "        self.name = name\n",
    "        self.symbol = symbol\n",
    "        self.number = number\n",
    "        \n",
    "    def __str__(self): # Defining method dump that will print values of the object.\n",
    "        return f'Name :{self.name},Symbol :{self.symbol},Number :{self.number}'\n",
    "        \n",
    "hydrogen = Element('Hydrogen','H',1)\n",
    "\n",
    "print(hydrogen)"
   ]
  },
  {
   "cell_type": "markdown",
   "id": "265b804a",
   "metadata": {},
   "source": [
    "8). Modify Element to make the attributes name, symbol, and number private. Define a getter property for each to return its value."
   ]
  },
  {
   "cell_type": "code",
   "execution_count": 31,
   "id": "d2b82594",
   "metadata": {},
   "outputs": [
    {
     "name": "stdout",
     "output_type": "stream",
     "text": [
      "Hydrogen\n",
      "H\n",
      "1\n"
     ]
    }
   ],
   "source": [
    "class Element: # Creating class Element\n",
    "    def __init__(self,name,symbol,number): # Defining instances of the class\n",
    "        self._name = name\n",
    "        self._symbol = symbol\n",
    "        self._number = number\n",
    "    @ property    \n",
    "    def name(self):\n",
    "        return self._name\n",
    "    @ property\n",
    "    def symbol(self):\n",
    "        return self._symbol\n",
    "    @ property\n",
    "    def number(self):\n",
    "        return self._number\n",
    "    \n",
    "hydrogen = Element('Hydrogen','H',1)\n",
    "print(hydrogen.name)\n",
    "print(hydrogen.symbol)\n",
    "print(hydrogen.number)"
   ]
  },
  {
   "cell_type": "markdown",
   "id": "9eb0060a",
   "metadata": {},
   "source": [
    "9). Define three classes: Bear, Rabbit, and Octothorpe. For each, define only one method: eats(). This should return 'berries' (Bear), 'clover' (Rabbit), or 'campers' (Octothorpe). Create one object from each and print what it eats."
   ]
  },
  {
   "cell_type": "code",
   "execution_count": 34,
   "id": "2898cae5",
   "metadata": {},
   "outputs": [
    {
     "name": "stdout",
     "output_type": "stream",
     "text": [
      "Bear eat berries\n",
      "Rabbit eat clove\n",
      "Octothorpe eat campers\n"
     ]
    }
   ],
   "source": [
    "# Defining different class with there methods.\n",
    "class Bear:\n",
    "    def eat(self):\n",
    "        return 'berries'\n",
    "\n",
    "class Rabbit:\n",
    "    def eat(self):\n",
    "        return 'clove'\n",
    "    \n",
    "class Octothorpe:\n",
    "    def eat(self):\n",
    "        return 'campers'\n",
    "    \n",
    "# Creating object of each class.\n",
    "B_eat = Bear()\n",
    "R_eat = Rabbit()\n",
    "O_eat = Octothorpe()\n",
    "\n",
    "print(f'Bear eat {B_eat.eat()}')\n",
    "print(f'Rabbit eat {R_eat.eat()}')\n",
    "print(f'Octothorpe eat {O_eat.eat()}')\n",
    "        \n",
    "    "
   ]
  },
  {
   "cell_type": "markdown",
   "id": "9be007eb",
   "metadata": {},
   "source": [
    "10). Define these classes: Laser, Claw, and SmartPhone. Each has only one method: does(). This returns 'disintegrate' (Laser), 'crush' (Claw), or 'ring' (SmartPhone). Then, define the class Robot that has one instance (object) of each of these. Define a does() method for the Robot that prints what its component objects do."
   ]
  },
  {
   "cell_type": "code",
   "execution_count": 43,
   "id": "278b3a80",
   "metadata": {},
   "outputs": [
    {
     "name": "stdout",
     "output_type": "stream",
     "text": [
      "Laser disintegrate\n",
      "Claw crush\n",
      "Smartphone ring\n"
     ]
    }
   ],
   "source": [
    "class Laser:\n",
    "    def does(self):\n",
    "        return 'disintegrate'\n",
    "    \n",
    "class Claw:\n",
    "    def does(self):\n",
    "        return 'crush'\n",
    "    \n",
    "class SmartPhone:\n",
    "    def does(self):\n",
    "        return 'ring'\n",
    "    \n",
    "class Robot:\n",
    "    def __init__(self):\n",
    "        self.laser = Laser()\n",
    "        self.claw = Claw()\n",
    "        self.smartphone = SmartPhone()\n",
    "        \n",
    "    def does(self):\n",
    "        print(f'Laser {self.laser.does()}')\n",
    "        print(f'Claw {self.claw.does()}')\n",
    "        print(f'Smartphone {self.smartphone.does()}')\n",
    "        \n",
    "robot = Robot()\n",
    "robot.does()"
   ]
  },
  {
   "cell_type": "code",
   "execution_count": null,
   "id": "13425033",
   "metadata": {},
   "outputs": [],
   "source": []
  }
 ],
 "metadata": {
  "kernelspec": {
   "display_name": "Python 3 (ipykernel)",
   "language": "python",
   "name": "python3"
  },
  "language_info": {
   "codemirror_mode": {
    "name": "ipython",
    "version": 3
   },
   "file_extension": ".py",
   "mimetype": "text/x-python",
   "name": "python",
   "nbconvert_exporter": "python",
   "pygments_lexer": "ipython3",
   "version": "3.9.13"
  }
 },
 "nbformat": 4,
 "nbformat_minor": 5
}
