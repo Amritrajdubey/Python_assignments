{
 "cells": [
  {
   "cell_type": "markdown",
   "id": "4be45334",
   "metadata": {},
   "source": [
    "1). Add the current date to the text file today.txt as a string."
   ]
  },
  {
   "cell_type": "code",
   "execution_count": 6,
   "id": "26f1ea82",
   "metadata": {},
   "outputs": [],
   "source": [
    "import datetime\n",
    "present = datetime.datetime.now()\n",
    "present_str = present.strftime(\"%Y-%m-%d %H:%M:%S\")\n",
    "with open('today.txt','w') as file:\n",
    "    file.write(present_str +'/n')"
   ]
  },
  {
   "cell_type": "markdown",
   "id": "8a13d0eb",
   "metadata": {},
   "source": [
    "2). Read the text file today.txt into the string today_string"
   ]
  },
  {
   "cell_type": "code",
   "execution_count": 18,
   "id": "13e65c41",
   "metadata": {},
   "outputs": [
    {
     "name": "stdout",
     "output_type": "stream",
     "text": [
      "2023-04-06 10:39:59/n\n"
     ]
    }
   ],
   "source": [
    "with open ('today.txt','r') as file:\n",
    "    today_string = file.read()\n",
    "\n",
    "print(today_string)"
   ]
  },
  {
   "cell_type": "markdown",
   "id": "d394963a",
   "metadata": {},
   "source": [
    "3). Parse the date from today_string."
   ]
  },
  {
   "cell_type": "code",
   "execution_count": 19,
   "id": "f3e78675",
   "metadata": {},
   "outputs": [
    {
     "name": "stdout",
     "output_type": "stream",
     "text": [
      "2023-04-06\n"
     ]
    }
   ],
   "source": [
    "print(today_string[:10])"
   ]
  },
  {
   "cell_type": "markdown",
   "id": "a0c3f940",
   "metadata": {},
   "source": [
    "4). List the files in your current directory"
   ]
  },
  {
   "cell_type": "code",
   "execution_count": 20,
   "id": "82ec193b",
   "metadata": {},
   "outputs": [
    {
     "data": {
      "text/plain": [
       "'C:\\\\Users\\\\vampi\\\\2023-04-06 10:39:59/n'"
      ]
     },
     "execution_count": 20,
     "metadata": {},
     "output_type": "execute_result"
    }
   ],
   "source": [
    "import os\n",
    "\n",
    "dir_path = os.getcwd()\n",
    "os.path.join(dir_path,today_string)"
   ]
  },
  {
   "cell_type": "markdown",
   "id": "4baff1e9",
   "metadata": {},
   "source": [
    "5). Create a list of all of the files in your parent directory (minimum five files should be available)."
   ]
  },
  {
   "cell_type": "code",
   "execution_count": 23,
   "id": "1dce1f00",
   "metadata": {},
   "outputs": [
    {
     "name": "stdout",
     "output_type": "stream",
     "text": [
      "['.astropy', '.conda', '.ipynb_checkpoints', '.ipython', '.jupyter']\n"
     ]
    }
   ],
   "source": [
    "l=[]\n",
    "parent_file = os.listdir(dir_path)\n",
    "for i in parent_file:\n",
    "    l.append(i)\n",
    "print(l[:5])"
   ]
  },
  {
   "cell_type": "markdown",
   "id": "ad7ccaf4",
   "metadata": {},
   "source": [
    "6). Use multiprocessing to create three separate processes. Make each one wait a random number of seconds between one and five, print the current time, and then exit."
   ]
  },
  {
   "cell_type": "code",
   "execution_count": null,
   "id": "6b391fb7",
   "metadata": {},
   "outputs": [],
   "source": []
  },
  {
   "cell_type": "markdown",
   "id": "2275d29a",
   "metadata": {},
   "source": [
    "7). Create a date object of your day of birth."
   ]
  },
  {
   "cell_type": "code",
   "execution_count": 25,
   "id": "e326986d",
   "metadata": {},
   "outputs": [
    {
     "name": "stdout",
     "output_type": "stream",
     "text": [
      "1997-08-16\n"
     ]
    }
   ],
   "source": [
    "from datetime import date\n",
    "day_of_birth = date(1997,8,16)\n",
    "print(day_of_birth)"
   ]
  },
  {
   "cell_type": "markdown",
   "id": "d1430124",
   "metadata": {},
   "source": [
    "8). What day of the week was your day of birth?"
   ]
  },
  {
   "cell_type": "code",
   "execution_count": 31,
   "id": "fc6ec629",
   "metadata": {},
   "outputs": [
    {
     "name": "stdout",
     "output_type": "stream",
     "text": [
      "Day of week: Saturday\n"
     ]
    }
   ],
   "source": [
    "from datetime import date\n",
    "\n",
    "Date = date(1997, 8, 16)\n",
    "\n",
    "day_string = Date.strftime(\"%A\")# format the date as a string with the day of the week\n",
    "\n",
    "print(\"Day of week:\", day_string)"
   ]
  },
  {
   "cell_type": "markdown",
   "id": "af70fc44",
   "metadata": {},
   "source": [
    "9). When will you be (or when were you) 10,000 days old?"
   ]
  },
  {
   "cell_type": "code",
   "execution_count": 32,
   "id": "da674431",
   "metadata": {},
   "outputs": [
    {
     "name": "stdout",
     "output_type": "stream",
     "text": [
      "Day 10000 after birth: 2025-01-01\n"
     ]
    }
   ],
   "source": [
    "from datetime import date , timedelta\n",
    "\n",
    "Date = date(1997, 8, 16)\n",
    "day = timedelta(days=10000)\n",
    "\n",
    "Ten_th_day = Date+day\n",
    "print(\"Day 10000 after birth:\", Ten_th_day)"
   ]
  },
  {
   "cell_type": "code",
   "execution_count": null,
   "id": "cc29e0ec",
   "metadata": {},
   "outputs": [],
   "source": []
  }
 ],
 "metadata": {
  "kernelspec": {
   "display_name": "Python 3 (ipykernel)",
   "language": "python",
   "name": "python3"
  },
  "language_info": {
   "codemirror_mode": {
    "name": "ipython",
    "version": 3
   },
   "file_extension": ".py",
   "mimetype": "text/x-python",
   "name": "python",
   "nbconvert_exporter": "python",
   "pygments_lexer": "ipython3",
   "version": "3.9.13"
  }
 },
 "nbformat": 4,
 "nbformat_minor": 5
}
