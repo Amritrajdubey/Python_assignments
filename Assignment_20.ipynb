{
 "cells": [
  {
   "cell_type": "markdown",
   "id": "94ecd017",
   "metadata": {},
   "source": [
    "1). Set the variable test1 to the string 'This is a test of the emergency text system,' and save test1 to a file named test.txt."
   ]
  },
  {
   "cell_type": "code",
   "execution_count": 1,
   "id": "003b4a5b",
   "metadata": {},
   "outputs": [],
   "source": [
    "test1 = 'This is a test of the emergency text system' # Creating the variable\n",
    "with open('test.txt','w') as file:\n",
    "    file.write(test1)"
   ]
  },
  {
   "cell_type": "markdown",
   "id": "279d504c",
   "metadata": {},
   "source": [
    "2). Read the contents of the file test.txt into the variable test2. Is there a difference between test 1 and test 2?"
   ]
  },
  {
   "cell_type": "code",
   "execution_count": 5,
   "id": "a47d57c4",
   "metadata": {},
   "outputs": [
    {
     "name": "stdout",
     "output_type": "stream",
     "text": [
      "This is a test of the emergency text system\n",
      "<built-in method read of _io.TextIOWrapper object at 0x000001C2597C7790>\n"
     ]
    }
   ],
   "source": [
    "with open( 'test.txt','r') as file :\n",
    "    test2 = file.read # Reading file into the variable test2\n",
    "    \n",
    "print(test1)\n",
    "print(test2)"
   ]
  },
  {
   "cell_type": "markdown",
   "id": "52241b3c",
   "metadata": {},
   "source": [
    "There is difference b/w test1 and test2 , test1 provide the string 'This is a test of the emergency text system' vs test2 read the contents of the test.txt file."
   ]
  },
  {
   "cell_type": "code",
   "execution_count": 6,
   "id": "d563a9d3",
   "metadata": {},
   "outputs": [],
   "source": [
    "import csv # Importing library\n",
    "\n",
    "data = [\n",
    "    ['title', 'author', 'year'],\n",
    "    ['The Weirdstone of Brisingamen', 'Alan Garner', 1960],\n",
    "    ['Perdido Street Station', 'China Miéville', 2000],\n",
    "    ['Thud!', 'Terry Pratchett', 2005],\n",
    "    ['The Spellman Files', 'Lisa Lutz', 2007],\n",
    "    ['Small Gods', 'Terry Pratchett', 1992]\n",
    "] # Adding data to csv file \n",
    "\n",
    "with open('books.csv', 'w', newline='') as file: # Opening file in write mode\n",
    "    writer = csv.writer(file)\n",
    "    writer.writerows(data) \n"
   ]
  },
  {
   "cell_type": "code",
   "execution_count": null,
   "id": "f5079cb3",
   "metadata": {},
   "outputs": [],
   "source": [
    "Read books.csv and  data The Weirdstone of Brisingamen,Alan Garner,1960\n",
    "Perdido Street Station,China Miéville,2000\n",
    "Thud!,Terry Pratchett,2005\n",
    "The Spellman Files,Lisa Lutz,2007\n",
    "Small Gods,Terry Pratchett,1992into the book table"
   ]
  },
  {
   "cell_type": "markdown",
   "id": "41572c1d",
   "metadata": {},
   "source": [
    "4). Use the sqlite3 module to create a SQLite database called books.db, and a table called books with these fields: title (text), author (text), and year (integer)."
   ]
  },
  {
   "cell_type": "code",
   "execution_count": 7,
   "id": "7f06e6ac",
   "metadata": {},
   "outputs": [],
   "source": [
    "import sqlite3 # Importing library\n",
    "\n",
    "conn = sqlite3.connect('books.db')# create a connection to the database\n",
    "c = conn.cursor()# create a cursor object\n",
    "\n",
    "c.execute('''CREATE TABLE books\n",
    "             (title text, author text, year integer)''') # Creating the table\n",
    "\n",
    "conn.commit()\n",
    "conn.close()"
   ]
  },
  {
   "cell_type": "markdown",
   "id": "83617fbd",
   "metadata": {},
   "source": [
    "5). Read books.csv and insert its data into the book table."
   ]
  },
  {
   "cell_type": "code",
   "execution_count": 13,
   "id": "36f721d8",
   "metadata": {},
   "outputs": [
    {
     "ename": "OperationalError",
     "evalue": "table books already exists",
     "output_type": "error",
     "traceback": [
      "\u001b[1;31m---------------------------------------------------------------------------\u001b[0m",
      "\u001b[1;31mOperationalError\u001b[0m                          Traceback (most recent call last)",
      "\u001b[1;32m~\\AppData\\Local\\Temp\\ipykernel_8264\\3557947572.py\u001b[0m in \u001b[0;36m<module>\u001b[1;34m\u001b[0m\n\u001b[0;32m      4\u001b[0m \u001b[0mc\u001b[0m \u001b[1;33m=\u001b[0m \u001b[0mconn\u001b[0m\u001b[1;33m.\u001b[0m\u001b[0mcursor\u001b[0m\u001b[1;33m(\u001b[0m\u001b[1;33m)\u001b[0m\u001b[1;31m# create a cursor object\u001b[0m\u001b[1;33m\u001b[0m\u001b[1;33m\u001b[0m\u001b[0m\n\u001b[0;32m      5\u001b[0m \u001b[1;33m\u001b[0m\u001b[0m\n\u001b[1;32m----> 6\u001b[1;33m c.execute('''CREATE TABLE books\n\u001b[0m\u001b[0;32m      7\u001b[0m              (title text, author text, year integer)''') # Creating the table\n\u001b[0;32m      8\u001b[0m \u001b[1;33m\u001b[0m\u001b[0m\n",
      "\u001b[1;31mOperationalError\u001b[0m: table books already exists"
     ]
    }
   ],
   "source": [
    "import csv , sqlite3 # Importing library\n",
    "\n",
    "conn = sqlite3.connect('books.db')# create a connection to the database\n",
    "c = conn.cursor()# create a cursor object\n",
    "\n",
    "c.execute('''CREATE TABLE books\n",
    "             (title text, author text, year integer)''') # Creating the table\n",
    "\n",
    "with open('books.csv', newline='') as file:\n",
    "    reader = csv.reader(file)\n",
    "    next(reader)  # skip the header row\n",
    "    for row in reader:\n",
    "        # insert the row into the database\n",
    "        c.execute(\"INSERT INTO books VALUES ('The Weirdstone of Brisingamen', 'Alan Garner', 1960)\", row)\n",
    "\n",
    "# commit the changes and close the connection\n",
    "conn.commit()\n",
    "conn.close()"
   ]
  },
  {
   "cell_type": "markdown",
   "id": "d78cbcc4",
   "metadata": {},
   "source": [
    "6). Select and print the title column from the book table in alphabetical order."
   ]
  },
  {
   "cell_type": "code",
   "execution_count": null,
   "id": "12d05085",
   "metadata": {},
   "outputs": [],
   "source": []
  },
  {
   "cell_type": "markdown",
   "id": "4f127f87",
   "metadata": {},
   "source": [
    "7). From the book table, select and print all columns in the order of publication."
   ]
  },
  {
   "cell_type": "code",
   "execution_count": null,
   "id": "dc271372",
   "metadata": {},
   "outputs": [],
   "source": []
  },
  {
   "cell_type": "markdown",
   "id": "1026dcbf",
   "metadata": {},
   "source": [
    "8). Use the sqlalchemy module to connect to the sqlite3 database books.db that you just made in exercise 6."
   ]
  },
  {
   "cell_type": "code",
   "execution_count": null,
   "id": "569366ab",
   "metadata": {},
   "outputs": [],
   "source": []
  },
  {
   "cell_type": "markdown",
   "id": "f5753a31",
   "metadata": {},
   "source": [
    "9). Install the Redis server and the Python redis library (pip install redis) on your computer. Create a Redis hash called test with the fields count (1) and name ('Fester Bestertester'). Print all the fields for test."
   ]
  },
  {
   "cell_type": "code",
   "execution_count": null,
   "id": "0cd6fd02",
   "metadata": {},
   "outputs": [],
   "source": []
  },
  {
   "cell_type": "markdown",
   "id": "e731b77a",
   "metadata": {},
   "source": [
    "10). Increment the count field of test and print it."
   ]
  },
  {
   "cell_type": "code",
   "execution_count": null,
   "id": "2eb2dfbc",
   "metadata": {},
   "outputs": [],
   "source": []
  }
 ],
 "metadata": {
  "kernelspec": {
   "display_name": "Python 3 (ipykernel)",
   "language": "python",
   "name": "python3"
  },
  "language_info": {
   "codemirror_mode": {
    "name": "ipython",
    "version": 3
   },
   "file_extension": ".py",
   "mimetype": "text/x-python",
   "name": "python",
   "nbconvert_exporter": "python",
   "pygments_lexer": "ipython3",
   "version": "3.9.13"
  }
 },
 "nbformat": 4,
 "nbformat_minor": 5
}
