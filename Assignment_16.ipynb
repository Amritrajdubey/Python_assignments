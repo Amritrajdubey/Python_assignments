{
 "cells": [
  {
   "cell_type": "markdown",
   "id": "6d77d6df",
   "metadata": {},
   "source": [
    "1). Create a list called years_list, starting with the year of your birth, and each year thereafter until the year of your fifth birthday. For example, if you were born in 1980. the list would be years_list = [1980, 1981, 1982, 1983, 1984, 1985].\n"
   ]
  },
  {
   "cell_type": "code",
   "execution_count": 1,
   "id": "bc907a9d",
   "metadata": {},
   "outputs": [],
   "source": [
    "year_list = [1997,1998,1999,2000,2001]"
   ]
  },
  {
   "cell_type": "markdown",
   "id": "58a0b696",
   "metadata": {},
   "source": [
    "2). In which year in years_list was your third birthday? Remember, you were 0 years of age for your first year.\n"
   ]
  },
  {
   "cell_type": "code",
   "execution_count": 5,
   "id": "a87d14d0",
   "metadata": {},
   "outputs": [
    {
     "name": "stdout",
     "output_type": "stream",
     "text": [
      "1997\n"
     ]
    }
   ],
   "source": [
    "# My Birthday out of year list\n",
    "# As we have created list till fith birthday from birth year\n",
    "birth_yr = year_list[0]\n",
    "print(birth_yr)"
   ]
  },
  {
   "cell_type": "markdown",
   "id": "564254fc",
   "metadata": {},
   "source": [
    "3).In the years list, which year were you the oldest?\n"
   ]
  },
  {
   "cell_type": "code",
   "execution_count": 7,
   "id": "ec3ddf6b",
   "metadata": {},
   "outputs": [
    {
     "name": "stdout",
     "output_type": "stream",
     "text": [
      "2001\n"
     ]
    }
   ],
   "source": [
    "oldest_yr = max(year_list)\n",
    "print(oldest_yr)"
   ]
  },
  {
   "cell_type": "markdown",
   "id": "fc29498c",
   "metadata": {},
   "source": [
    "4). Make a list called things with these three strings as elements: 'mozzarell','cinderell','salmonell'.\n"
   ]
  },
  {
   "cell_type": "code",
   "execution_count": 8,
   "id": "f00d9d9c",
   "metadata": {},
   "outputs": [],
   "source": [
    "thing = ['mozzarell','cinderell','salmonell']"
   ]
  },
  {
   "cell_type": "markdown",
   "id": "1d2953c1",
   "metadata": {},
   "source": [
    "5). Capitalize the element in things that refers to a person and then print the list. Did it change the element in the list?\n"
   ]
  },
  {
   "cell_type": "code",
   "execution_count": 9,
   "id": "e189c2e6",
   "metadata": {},
   "outputs": [
    {
     "data": {
      "text/plain": [
       "['MOZZARELL', 'CINDERELL', 'SALMONELL']"
      ]
     },
     "execution_count": 9,
     "metadata": {},
     "output_type": "execute_result"
    }
   ],
   "source": [
    "[i.upper() for i in thing]"
   ]
  },
  {
   "cell_type": "markdown",
   "id": "cda86392",
   "metadata": {},
   "source": [
    "6). Make a surprise list with the elements 'Groucho', 'Chico', and 'Harpo''.\n"
   ]
  },
  {
   "cell_type": "code",
   "execution_count": 10,
   "id": "143a396d",
   "metadata": {},
   "outputs": [],
   "source": [
    "surprise = ['Groucho', 'Chico','Harpo']"
   ]
  },
  {
   "cell_type": "markdown",
   "id": "78edac19",
   "metadata": {},
   "source": [
    "7). Lowercase the last element of the surprise list, reverse it, and then capitalize it.\n"
   ]
  },
  {
   "cell_type": "code",
   "execution_count": 11,
   "id": "01892038",
   "metadata": {},
   "outputs": [
    {
     "data": {
      "text/plain": [
       "['groucho', 'chico', 'harpo']"
      ]
     },
     "execution_count": 11,
     "metadata": {},
     "output_type": "execute_result"
    }
   ],
   "source": [
    "[ i.lower() for i in surprise]"
   ]
  },
  {
   "cell_type": "markdown",
   "id": "6b0f9871",
   "metadata": {},
   "source": [
    "8). Make an English-to-French dictionary called e2f and print it. Here are your starter words: dog is chien, cat is chat, and walrus is morse.\n"
   ]
  },
  {
   "cell_type": "code",
   "execution_count": 16,
   "id": "3ae1200b",
   "metadata": {},
   "outputs": [],
   "source": [
    "# English to French dictonary\n",
    "\n",
    "e2f = { 'dog': 'chien','cat':'chat','walrus':'morse'}"
   ]
  },
  {
   "cell_type": "markdown",
   "id": "8a12ff64",
   "metadata": {},
   "source": [
    "9). Write the French word for walrus in your three-word dictionary e2f.\n"
   ]
  },
  {
   "cell_type": "code",
   "execution_count": 17,
   "id": "6401ee6d",
   "metadata": {},
   "outputs": [
    {
     "data": {
      "text/plain": [
       "'morse'"
      ]
     },
     "execution_count": 17,
     "metadata": {},
     "output_type": "execute_result"
    }
   ],
   "source": [
    "e2f['walrus']"
   ]
  },
  {
   "cell_type": "markdown",
   "id": "cb6289c0",
   "metadata": {},
   "source": [
    "10). Make a French-to-English dictionary called f2e from e2f. Use the items method.\n"
   ]
  },
  {
   "cell_type": "code",
   "execution_count": 18,
   "id": "f39e8d13",
   "metadata": {},
   "outputs": [],
   "source": [
    "# French to English Dictonary\n",
    "f2e = {'chien':'dog','chat':'cat','morse':'walrus'}"
   ]
  },
  {
   "cell_type": "markdown",
   "id": "61f960db",
   "metadata": {},
   "source": [
    "11). Print the English version of the French word chien using f2e.\n"
   ]
  },
  {
   "cell_type": "code",
   "execution_count": 19,
   "id": "45be8211",
   "metadata": {},
   "outputs": [
    {
     "data": {
      "text/plain": [
       "'dog'"
      ]
     },
     "execution_count": 19,
     "metadata": {},
     "output_type": "execute_result"
    }
   ],
   "source": [
    "f2e['chien']"
   ]
  },
  {
   "cell_type": "markdown",
   "id": "bb44c839",
   "metadata": {},
   "source": [
    "12). Make and print a set of English words from the keys in e2f.\n"
   ]
  },
  {
   "cell_type": "code",
   "execution_count": 21,
   "id": "e0dbf3cd",
   "metadata": {},
   "outputs": [
    {
     "name": "stdout",
     "output_type": "stream",
     "text": [
      "dict_keys(['dog', 'cat', 'walrus'])\n"
     ]
    }
   ],
   "source": [
    "# English word in dict e2f\n",
    "\n",
    "print(e2f.keys())"
   ]
  },
  {
   "cell_type": "markdown",
   "id": "9fd8e2ba",
   "metadata": {},
   "source": [
    "13). Make a multilevel dictionary called life. Use these strings for the topmost keys: 'animals', 'plants', and 'other'. Make the 'animals' key refer to another dictionary with the keys 'cats', 'octopi', and 'emus'. Make the 'cats' key refer to a list of strings with the values 'Henri', 'Grumpy', and 'Lucy'.Make all the other keys refer to empty dictionaries."
   ]
  },
  {
   "cell_type": "code",
   "execution_count": 22,
   "id": "0cd9bdab",
   "metadata": {},
   "outputs": [],
   "source": [
    "life = {'animals':{'cats':['Henri','Grumpy','Lucy'],'octopi':{},'emus':{}},'plants':{},'other':{}}"
   ]
  },
  {
   "cell_type": "markdown",
   "id": "be54f096",
   "metadata": {},
   "source": [
    "14). Print the top-level keys of life.\n"
   ]
  },
  {
   "cell_type": "code",
   "execution_count": 23,
   "id": "22cd75e0",
   "metadata": {},
   "outputs": [
    {
     "name": "stdout",
     "output_type": "stream",
     "text": [
      "dict_keys(['animals', 'plants', 'other'])\n"
     ]
    }
   ],
   "source": [
    "print(life.keys())"
   ]
  },
  {
   "cell_type": "markdown",
   "id": "487a0e39",
   "metadata": {},
   "source": [
    "15). Print the keys for life['animals'].\n"
   ]
  },
  {
   "cell_type": "code",
   "execution_count": 24,
   "id": "ba049db2",
   "metadata": {},
   "outputs": [
    {
     "name": "stdout",
     "output_type": "stream",
     "text": [
      "dict_keys(['cats', 'octopi', 'emus'])\n"
     ]
    }
   ],
   "source": [
    "print(life['animals'].keys())"
   ]
  },
  {
   "cell_type": "markdown",
   "id": "6bc5e12d",
   "metadata": {},
   "source": [
    "16). Print the values for life['animals']['cats']"
   ]
  },
  {
   "cell_type": "code",
   "execution_count": 30,
   "id": "b1f7ade4",
   "metadata": {},
   "outputs": [
    {
     "data": {
      "text/plain": [
       "{'cats': ['Henri', 'Grumpy', 'Lucy'], 'octopi': {}, 'emus': {}}"
      ]
     },
     "execution_count": 30,
     "metadata": {},
     "output_type": "execute_result"
    }
   ],
   "source": [
    "(life['animals'])"
   ]
  },
  {
   "cell_type": "code",
   "execution_count": null,
   "id": "1c7d54a4",
   "metadata": {},
   "outputs": [],
   "source": []
  }
 ],
 "metadata": {
  "kernelspec": {
   "display_name": "Python 3 (ipykernel)",
   "language": "python",
   "name": "python3"
  },
  "language_info": {
   "codemirror_mode": {
    "name": "ipython",
    "version": 3
   },
   "file_extension": ".py",
   "mimetype": "text/x-python",
   "name": "python",
   "nbconvert_exporter": "python",
   "pygments_lexer": "ipython3",
   "version": "3.9.13"
  }
 },
 "nbformat": 4,
 "nbformat_minor": 5
}
