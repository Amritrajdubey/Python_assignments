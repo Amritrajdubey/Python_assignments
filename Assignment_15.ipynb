{
 "cells": [
  {
   "cell_type": "markdown",
   "id": "dd8bc098",
   "metadata": {},
   "source": [
    "1). How many seconds are in an hour? Use the interactive interpreter as a calculator and multiply the number of seconds in a minute (60) by the number of minutes in an hour (also 60)."
   ]
  },
  {
   "cell_type": "code",
   "execution_count": 2,
   "id": "ec06b138",
   "metadata": {},
   "outputs": [
    {
     "name": "stdout",
     "output_type": "stream",
     "text": [
      "3600\n"
     ]
    }
   ],
   "source": [
    "sec_in_min =60\n",
    "min_in_hr = 60\n",
    "\n",
    "sec_in_hr = sec_in_min * min_in_hr\n",
    "print(sec_in_hr)"
   ]
  },
  {
   "cell_type": "markdown",
   "id": "25fbbcf4",
   "metadata": {},
   "source": [
    "2). Assign the result from the previous task (seconds in an hour) to a variable called seconds_per_hour."
   ]
  },
  {
   "cell_type": "code",
   "execution_count": 5,
   "id": "6d62b584",
   "metadata": {},
   "outputs": [],
   "source": [
    "seconds_per_hour = sec_in_hr"
   ]
  },
  {
   "cell_type": "markdown",
   "id": "e281944f",
   "metadata": {},
   "source": [
    "3). How many seconds do you think there are in a day? Make use of the variables seconds per hour and minutes per hour."
   ]
  },
  {
   "cell_type": "code",
   "execution_count": 6,
   "id": "ec0fdf38",
   "metadata": {},
   "outputs": [
    {
     "name": "stdout",
     "output_type": "stream",
     "text": [
      "86400\n"
     ]
    }
   ],
   "source": [
    "hr_in_day =24\n",
    "sec_in_day = hr_in_day * seconds_per_hour\n",
    "\n",
    "print(sec_in_day)"
   ]
  },
  {
   "cell_type": "markdown",
   "id": "5a5da91a",
   "metadata": {},
   "source": [
    "4). Calculate seconds per day again, but this time save the result in a variable called seconds_per_day"
   ]
  },
  {
   "cell_type": "code",
   "execution_count": 8,
   "id": "cc0dbb9b",
   "metadata": {},
   "outputs": [
    {
     "name": "stdout",
     "output_type": "stream",
     "text": [
      "86400\n"
     ]
    }
   ],
   "source": [
    "seconds_per_day = sec_in_day\n",
    "print(seconds_per_day)"
   ]
  },
  {
   "cell_type": "markdown",
   "id": "f042359b",
   "metadata": {},
   "source": [
    "5). Divide seconds_per_day by seconds_per_hour. Use floating-point (/) division."
   ]
  },
  {
   "cell_type": "code",
   "execution_count": 9,
   "id": "ea8c8c07",
   "metadata": {},
   "outputs": [
    {
     "name": "stdout",
     "output_type": "stream",
     "text": [
      "24.0\n"
     ]
    }
   ],
   "source": [
    "divide = seconds_per_day/seconds_per_hour\n",
    "print(divide)"
   ]
  },
  {
   "cell_type": "markdown",
   "id": "c4b9dfa1",
   "metadata": {},
   "source": [
    "6). Divide seconds_per_day by seconds_per_hour, using integer (//) division. Did this number agree with the floating-point value from the previous question, aside from the final .0?"
   ]
  },
  {
   "cell_type": "code",
   "execution_count": 11,
   "id": "0699ba53",
   "metadata": {},
   "outputs": [
    {
     "name": "stdout",
     "output_type": "stream",
     "text": [
      "24\n"
     ]
    }
   ],
   "source": [
    "divide1 = seconds_per_day//seconds_per_hour\n",
    "print(divide1) # Both values of top and here are same"
   ]
  },
  {
   "cell_type": "markdown",
   "id": "3fad69bc",
   "metadata": {},
   "source": [
    "7). Write a generator, genPrimes, that returns the sequence of prime numbers on successive calls to its next() method: 2, 3, 5, 7, 11,..."
   ]
  },
  {
   "cell_type": "code",
   "execution_count": 32,
   "id": "b3d2c724",
   "metadata": {},
   "outputs": [
    {
     "ename": "SyntaxError",
     "evalue": "invalid syntax (1226639456.py, line 7)",
     "output_type": "error",
     "traceback": [
      "\u001b[1;36m  File \u001b[1;32m\"C:\\Users\\vampi\\AppData\\Local\\Temp\\ipykernel_8188\\1226639456.py\"\u001b[1;36m, line \u001b[1;32m7\u001b[0m\n\u001b[1;33m    yield (i,end =',')\u001b[0m\n\u001b[1;37m                 ^\u001b[0m\n\u001b[1;31mSyntaxError\u001b[0m\u001b[1;31m:\u001b[0m invalid syntax\n"
     ]
    }
   ],
   "source": [
    "def genPrimes(n):   \n",
    "    for i in range(2,n):\n",
    "        for j in range(2,n):\n",
    "            if i%j == 0:\n",
    "                break\n",
    "        if i == j:\n",
    "            yield i"
   ]
  },
  {
   "cell_type": "code",
   "execution_count": 24,
   "id": "98231ca7",
   "metadata": {},
   "outputs": [],
   "source": []
  },
  {
   "cell_type": "code",
   "execution_count": 26,
   "id": "891e6ed5",
   "metadata": {},
   "outputs": [
    {
     "name": "stdout",
     "output_type": "stream",
     "text": [
      "2,3,5,7,11,13,17,19,23,29,31,37,41,43,47,"
     ]
    }
   ],
   "source": [
    "for i in range(2,50): \n",
    "    for j in range(2,50):\n",
    "        if i%j == 0:\n",
    "            break\n",
    "    if i == j:\n",
    "        print(i,end=\",\")"
   ]
  },
  {
   "cell_type": "code",
   "execution_count": 29,
   "id": "1125809f",
   "metadata": {},
   "outputs": [
    {
     "ename": "SyntaxError",
     "evalue": "invalid syntax (1284611845.py, line 6)",
     "output_type": "error",
     "traceback": [
      "\u001b[1;36m  File \u001b[1;32m\"C:\\Users\\vampi\\AppData\\Local\\Temp\\ipykernel_8188\\1284611845.py\"\u001b[1;36m, line \u001b[1;32m6\u001b[0m\n\u001b[1;33m    yield (i,end=',')\u001b[0m\n\u001b[1;37m                ^\u001b[0m\n\u001b[1;31mSyntaxError\u001b[0m\u001b[1;31m:\u001b[0m invalid syntax\n"
     ]
    }
   ],
   "source": []
  },
  {
   "cell_type": "code",
   "execution_count": null,
   "id": "dd7c17d3",
   "metadata": {},
   "outputs": [],
   "source": []
  }
 ],
 "metadata": {
  "kernelspec": {
   "display_name": "Python 3 (ipykernel)",
   "language": "python",
   "name": "python3"
  },
  "language_info": {
   "codemirror_mode": {
    "name": "ipython",
    "version": 3
   },
   "file_extension": ".py",
   "mimetype": "text/x-python",
   "name": "python",
   "nbconvert_exporter": "python",
   "pygments_lexer": "ipython3",
   "version": "3.9.13"
  }
 },
 "nbformat": 4,
 "nbformat_minor": 5
}
